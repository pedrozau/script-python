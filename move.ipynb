import os
import shutil
import time

documento = r"C:\Users\Mr.Pedro\Downloads"
down = r"C:\Users\Mr.Pedro\Videos"
try:
    while(True):
        for root, dirs, files in os.walk(documento):
            for file in files:
                origem = os.path.join(root,file)
                destino = os.path.join(down,file)
                if '.m4p' in file:
                   # time.sleep(4)
                    shutil.move(origem,destino)
                    print(f'Arquivo {file} movido com sucesso!!')
except:
    print("Falha de mover arquivos")